{
 "cells": [
  {
   "cell_type": "code",
   "execution_count": 9,
   "id": "be39bf44",
   "metadata": {},
   "outputs": [],
   "source": [
    "def mpg_calc():\n",
    "    print ('Litres and Miles to MPG')\n",
    "    \n",
    "    litres = \"x\"\n",
    "    miles = \"x\"\n",
    "    cost = \"x\"\n",
    "    \n",
    "    litres_check = False\n",
    "    miles_check = False\n",
    "    cost_check = False\n",
    "    \n",
    "    while litres_check == False: \n",
    "    \n",
    "        litres = input('Enter Litres ')\n",
    "        \n",
    "        if litres.replace(\".\",\"\").isnumeric() == False:\n",
    "            print (\"Please enter a number of litres\")\n",
    "        else:\n",
    "            litres = float(litres)\n",
    "            litres_check = True\n",
    "                \n",
    "    while miles_check == False:\n",
    "        \n",
    "        miles = input('Enter Miles ')\n",
    "        \n",
    "        if miles.replace(\".\",\"\").isnumeric() == False:\n",
    "            print (\"Please enter a number of miles\")\n",
    "        else:\n",
    "            miles = float(miles)\n",
    "            miles_check = True\n",
    "            \n",
    "    while cost_check == False: \n",
    "    \n",
    "        cost = input('Enter cost ')\n",
    "        \n",
    "        if cost.replace(\".\",\"\").isnumeric() == False:\n",
    "            print (\"Please enter the cost\")\n",
    "        else:\n",
    "            cost = float(cost)\n",
    "            cost_check = True\n",
    "            \n",
    "    gallons = litres * 0.219969\n",
    "    cost_mile = cost/miles\n",
    "    mpg= miles/gallons\n",
    "    print(f\"Your MPG is: {round(mpg,2)}\")\n",
    "    print(f\"You spent {round(cost_mile,2)} per mile driven\")\n",
    "    #savecheck = input('Would you like to save the result? Y/N ')\n",
    "    #if savecheck == 'Y':\n",
    "        #pass\n",
    "    #else:\n",
    "       # pass"
   ]
  },
  {
   "cell_type": "code",
   "execution_count": 10,
   "id": "0b23dbd2",
   "metadata": {},
   "outputs": [
    {
     "name": "stdout",
     "output_type": "stream",
     "text": [
      "Litres and Miles to MPG\n",
      "Enter Litres 32.97\n",
      "Enter Miles 381.6\n",
      "Enter cost 56.35\n",
      "Your MPG is: 52.62\n",
      "You spent 0.15 per mile driven\n"
     ]
    }
   ],
   "source": [
    "mpg_calc()"
   ]
  },
  {
   "cell_type": "code",
   "execution_count": 23,
   "id": "8523538b",
   "metadata": {},
   "outputs": [
    {
     "data": {
      "text/plain": [
       "[['Date', 'Litres', 'Gallons', 'Miles', 'Cost'],\n",
       " ['23/12/2022', '32.97', '7.25', '381.6', '56.35'],\n",
       " ['new', 'new', 'new']]"
      ]
     },
     "execution_count": 23,
     "metadata": {},
     "output_type": "execute_result"
    }
   ],
   "source": [
    "# date // litres // gallons // miles // cost\n",
    "import csv\n",
    "mpg_data_raw = open('MPG_Calculator.csv')\n",
    "mpg_data = csv.reader(mpg_data_raw)\n",
    "mpg_data_lines = list(mpg_data)\n",
    "\n",
    "litres_list = []\n",
    "for line in mpg_data_lines:\n",
    "    litres_list.append(line[1])\n",
    "mpg_data_lines"
   ]
  },
  {
   "cell_type": "code",
   "execution_count": 17,
   "id": "7af92644",
   "metadata": {},
   "outputs": [],
   "source": [
    "f = open('MPG_Calculator.csv','a',newline='')\n",
    "csv_writer = csv.writer(f)"
   ]
  },
  {
   "cell_type": "code",
   "execution_count": 19,
   "id": "a8c27159",
   "metadata": {
    "scrolled": true
   },
   "outputs": [
    {
     "ename": "ValueError",
     "evalue": "I/O operation on closed file.",
     "output_type": "error",
     "traceback": [
      "\u001b[1;31m---------------------------------------------------------------------------\u001b[0m",
      "\u001b[1;31mValueError\u001b[0m                                Traceback (most recent call last)",
      "\u001b[1;32m~\\AppData\\Local\\Temp\\ipykernel_772\\1958006591.py\u001b[0m in \u001b[0;36m<module>\u001b[1;34m\u001b[0m\n\u001b[1;32m----> 1\u001b[1;33m \u001b[0mcsv_writer\u001b[0m\u001b[1;33m.\u001b[0m\u001b[0mwriterow\u001b[0m\u001b[1;33m(\u001b[0m\u001b[1;33m[\u001b[0m\u001b[1;34m'new'\u001b[0m\u001b[1;33m,\u001b[0m\u001b[1;34m'new'\u001b[0m\u001b[1;33m,\u001b[0m\u001b[1;34m'new'\u001b[0m\u001b[1;33m]\u001b[0m\u001b[1;33m)\u001b[0m\u001b[1;33m\u001b[0m\u001b[1;33m\u001b[0m\u001b[0m\n\u001b[0m\u001b[0;32m      2\u001b[0m \u001b[0mf\u001b[0m\u001b[1;33m.\u001b[0m\u001b[0mclose\u001b[0m\u001b[1;33m(\u001b[0m\u001b[1;33m)\u001b[0m\u001b[1;33m\u001b[0m\u001b[1;33m\u001b[0m\u001b[0m\n",
      "\u001b[1;31mValueError\u001b[0m: I/O operation on closed file."
     ]
    }
   ],
   "source": [
    "csv_writer.writerow(['new','new','new'])"
   ]
  },
  {
   "cell_type": "code",
   "execution_count": 20,
   "id": "17b87ed3",
   "metadata": {},
   "outputs": [],
   "source": [
    "f.close()"
   ]
  },
  {
   "cell_type": "code",
   "execution_count": 21,
   "id": "3f1bf517",
   "metadata": {},
   "outputs": [
    {
     "data": {
      "text/plain": [
       "<_io.TextIOWrapper name='MPG_Calculator.csv' mode='a' encoding='cp1252'>"
      ]
     },
     "execution_count": 21,
     "metadata": {},
     "output_type": "execute_result"
    }
   ],
   "source": [
    "f"
   ]
  },
  {
   "cell_type": "code",
   "execution_count": null,
   "id": "4bc360e0",
   "metadata": {},
   "outputs": [],
   "source": []
  }
 ],
 "metadata": {
  "kernelspec": {
   "display_name": "Python 3 (ipykernel)",
   "language": "python",
   "name": "python3"
  },
  "language_info": {
   "codemirror_mode": {
    "name": "ipython",
    "version": 3
   },
   "file_extension": ".py",
   "mimetype": "text/x-python",
   "name": "python",
   "nbconvert_exporter": "python",
   "pygments_lexer": "ipython3",
   "version": "3.9.13"
  }
 },
 "nbformat": 4,
 "nbformat_minor": 5
}
