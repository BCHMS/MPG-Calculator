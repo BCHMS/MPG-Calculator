{
 "cells": [
  {
   "cell_type": "code",
   "execution_count": 15,
   "id": "be39bf44",
   "metadata": {},
   "outputs": [],
   "source": [
    "def mpg_calc():\n",
    "    from datetime import datetime\n",
    "    print ('Litres and Miles to MPG')\n",
    "    \n",
    "    while True:  # accepts litres as an input and checks it is a float\n",
    "        try:\n",
    "            litres = float(input('Enter litreage: '))\n",
    "        except:\n",
    "            print ('Please enter a number of litres ')\n",
    "        else:\n",
    "            break\n",
    "                \n",
    "    while True:   # accepts miles as an input and checks it is a float\n",
    "        try:\n",
    "            miles = float(input('Enter mileage: '))\n",
    "        except:\n",
    "            print ('Please enter a number of miles ')\n",
    "        else:\n",
    "            break\n",
    "            \n",
    "    while True:   # accepts cost as an input and checks it is a float\n",
    "        try:\n",
    "            cost = float(input('Enter cost: '))\n",
    "        except:\n",
    "            print ('Please enter the cost in £ ')\n",
    "        else:\n",
    "            break\n",
    "            \n",
    "    while True:   # accepts the date as an input and checks it is in the format of dd/mm/yyyy\n",
    "        try:\n",
    "            date_string = input(\"Please enter the date of sale: \")\n",
    "            date_date = datetime.strptime(date_string, \"%d/%m/%Y\")\n",
    "        except:\n",
    "            print ('Dates must be entered as dd/mm/yyyy')\n",
    "        else:\n",
    "            break\n",
    "            \n",
    "    vehicle_check = False    # enables users to enter their reg and confirm it is entered correctly, does not verify data\n",
    "    while vehicle_check == False:\n",
    "        reg = input('Enter the registration number: ')\n",
    "        vehicle_year = input('Enter the manufacturing year: ')\n",
    "        vehicle_make = input('Enter the vehicle make: ')\n",
    "        vehicle_model = input('Enter the vehicle model: ')\n",
    "        vehicle = (vehicle_year + ' ' + vehicle_make + ' ' + vehicle_model + ' ' + reg)\n",
    "        print (vehicle)\n",
    "        reg_year_make_model_check = input('Is this vehicle correct? Enter yes to accept: ')\n",
    "        if reg_year_make_model_check.lower() == 'yes':\n",
    "            vehicle_check = True\n",
    "\n",
    "    gallons = litres * 0.219969\n",
    "    cost_mile = cost/miles\n",
    "    mpg= miles/gallons\n",
    "    cost_litre = cost/litres*100\n",
    "    print(f\"Your MPG is: {round(mpg,2)}\")\n",
    "    print(f\"You spent £{round(cost_mile,3)} per mile driven\")\n",
    "    print(f\"Your vehicle is a {vehicle}\")\n",
    "    print(f\"Your cost per litre was p{round(cost_litre,3)}\")\n"
   ]
  },
  {
   "cell_type": "code",
   "execution_count": 16,
   "id": "0b23dbd2",
   "metadata": {},
   "outputs": [
    {
     "name": "stdout",
     "output_type": "stream",
     "text": [
      "Litres and Miles to MPG\n",
      "Enter litreage: 32.97\n",
      "Enter mileage: 381.6\n",
      "Enter cost: 56.35\n",
      "Please enter the date of sale: 23/12/2022\n",
      "Enter the registration number: VK54 RGO\n",
      "Enter the manufacturing year: 2004\n",
      "Enter the vehicle make: Vauxhall\n",
      "Enter the vehicle model: Corsa\n",
      "2004 Vauxhall Corsa VK54 RGO\n",
      "Is this vehicle correct? Enter yes to accept: yes\n",
      "Your MPG is: 52.62\n",
      "You spent £0.148 per mile driven\n",
      "Your vehicle is a 2004 Vauxhall Corsa VK54 RGO\n",
      "Your cost per litre was p170.913\n"
     ]
    }
   ],
   "source": [
    "mpg_calc()"
   ]
  }
 ],
 "metadata": {
  "kernelspec": {
   "display_name": "Python 3 (ipykernel)",
   "language": "python",
   "name": "python3"
  },
  "language_info": {
   "codemirror_mode": {
    "name": "ipython",
    "version": 3
   },
   "file_extension": ".py",
   "mimetype": "text/x-python",
   "name": "python",
   "nbconvert_exporter": "python",
   "pygments_lexer": "ipython3",
   "version": "3.9.13"
  }
 },
 "nbformat": 4,
 "nbformat_minor": 5
}
