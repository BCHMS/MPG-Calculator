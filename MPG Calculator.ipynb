{
 "cells": [
  {
   "cell_type": "code",
   "execution_count": 3,
   "id": "be39bf44",
   "metadata": {},
   "outputs": [],
   "source": [
    "def mpg_calc():\n",
    "    print ('Litres and Miles to MPG')\n",
    "    \n",
    "    while True:\n",
    "        try:\n",
    "            litres = float(input('Enter Litres '))\n",
    "        except:\n",
    "            print ('Please enter a number of litres ')\n",
    "        else:\n",
    "            break\n",
    "                \n",
    "    while True:\n",
    "        try:\n",
    "            miles = float(input('Enter Miles '))\n",
    "        except:\n",
    "            print ('Please enter a number of miles ')\n",
    "        else:\n",
    "            break\n",
    "            \n",
    "    while True:\n",
    "        try:\n",
    "            cost = float(input('Enter Cost in £ '))\n",
    "        except:\n",
    "            print ('Please enter the cost in £ ')\n",
    "        else:\n",
    "            break\n",
    "\n",
    "    gallons = litres * 0.219969\n",
    "    cost_mile = cost/miles\n",
    "    mpg= miles/gallons\n",
    "    print(f\"Your MPG is: {round(mpg,2)}\")\n",
    "    print(f\"You spent £{round(cost_mile,2)} per mile driven\")\n"
   ]
  },
  {
   "cell_type": "code",
   "execution_count": 4,
   "id": "0b23dbd2",
   "metadata": {},
   "outputs": [
    {
     "name": "stdout",
     "output_type": "stream",
     "text": [
      "Litres and Miles to MPG\n",
      "Enter Litres 32.97\n",
      "Enter Miles 381.6\n",
      "Enter Cost in £ 56.35\n",
      "Your MPG is: 52.62\n",
      "You spent £0.15 per mile driven\n"
     ]
    }
   ],
   "source": [
    "mpg_calc()"
   ]
  }
 ],
 "metadata": {
  "kernelspec": {
   "display_name": "Python 3 (ipykernel)",
   "language": "python",
   "name": "python3"
  },
  "language_info": {
   "codemirror_mode": {
    "name": "ipython",
    "version": 3
   },
   "file_extension": ".py",
   "mimetype": "text/x-python",
   "name": "python",
   "nbconvert_exporter": "python",
   "pygments_lexer": "ipython3",
   "version": "3.9.13"
  }
 },
 "nbformat": 4,
 "nbformat_minor": 5
}
