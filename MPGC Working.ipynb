{
 "cells": [
  {
   "cell_type": "code",
   "execution_count": 11,
   "id": "18155b08",
   "metadata": {},
   "outputs": [
    {
     "data": {
      "text/plain": [
       "[['Entry Number',\n",
       "  'Date',\n",
       "  'Litres',\n",
       "  'Gallons',\n",
       "  'Miles',\n",
       "  'Cost',\n",
       "  'Vehicle',\n",
       "  'Cost Per Litre'],\n",
       " ['1', '23/12/2022', '32.97', '7.25', '381.6', '56.35', 'Corsa', '170.9']]"
      ]
     },
     "execution_count": 11,
     "metadata": {},
     "output_type": "execute_result"
    }
   ],
   "source": [
    "# date // litres // gallons // miles // cost\n",
    "import csv\n",
    "mpg_data_raw = open('MPG_Calculator.csv')\n",
    "mpg_data = csv.reader(mpg_data_raw)\n",
    "mpg_data_lines = list(mpg_data)\n",
    "\n",
    "litres_list = []\n",
    "for line in mpg_data_lines:\n",
    "    litres_list.append(line[0])\n",
    "mpg_data_lines\n"
   ]
  },
  {
   "cell_type": "code",
   "execution_count": 2,
   "id": "f56522dc",
   "metadata": {},
   "outputs": [],
   "source": [
    "f = open('MPG_Calculator.csv','a',newline='')\n",
    "csv_writer = csv.writer(f)"
   ]
  },
  {
   "cell_type": "code",
   "execution_count": 3,
   "id": "b0e4a60e",
   "metadata": {},
   "outputs": [
    {
     "data": {
      "text/plain": [
       "13"
      ]
     },
     "execution_count": 3,
     "metadata": {},
     "output_type": "execute_result"
    }
   ],
   "source": [
    "csv_writer.writerow(['new','new','new'])"
   ]
  },
  {
   "cell_type": "code",
   "execution_count": 6,
   "id": "2f2b559a",
   "metadata": {},
   "outputs": [],
   "source": [
    "f.close()"
   ]
  }
 ],
 "metadata": {
  "kernelspec": {
   "display_name": "Python 3 (ipykernel)",
   "language": "python",
   "name": "python3"
  },
  "language_info": {
   "codemirror_mode": {
    "name": "ipython",
    "version": 3
   },
   "file_extension": ".py",
   "mimetype": "text/x-python",
   "name": "python",
   "nbconvert_exporter": "python",
   "pygments_lexer": "ipython3",
   "version": "3.9.13"
  }
 },
 "nbformat": 4,
 "nbformat_minor": 5
}
