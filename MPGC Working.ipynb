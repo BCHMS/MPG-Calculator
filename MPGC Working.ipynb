{
 "cells": [
  {
   "cell_type": "code",
   "execution_count": 1,
   "id": "6eb51f24",
   "metadata": {},
   "outputs": [
    {
     "data": {
      "text/plain": [
       "[['Date', 'Litres', 'Gallons', 'Miles', 'Cost'],\n",
       " ['23/12/2022', '32.97', '7.25', '381.6', '56.35'],\n",
       " ['new', 'new', 'new']]"
      ]
     },
     "execution_count": 1,
     "metadata": {},
     "output_type": "execute_result"
    }
   ],
   "source": [
    "# date // litres // gallons // miles // cost\n",
    "import csv\n",
    "mpg_data_raw = open('MPG_Calculator.csv')\n",
    "mpg_data = csv.reader(mpg_data_raw)\n",
    "mpg_data_lines = list(mpg_data)\n",
    "\n",
    "litres_list = []\n",
    "for line in mpg_data_lines:\n",
    "    litres_list.append(line[1])\n",
    "mpg_data_lines"
   ]
  },
  {
   "cell_type": "code",
   "execution_count": 2,
   "id": "f439e322",
   "metadata": {},
   "outputs": [],
   "source": [
    "f = open('MPG_Calculator.csv','a',newline='')\n",
    "csv_writer = csv.writer(f)"
   ]
  },
  {
   "cell_type": "code",
   "execution_count": 3,
   "id": "349d49db",
   "metadata": {},
   "outputs": [
    {
     "data": {
      "text/plain": [
       "13"
      ]
     },
     "execution_count": 3,
     "metadata": {},
     "output_type": "execute_result"
    }
   ],
   "source": [
    "csv_writer.writerow(['new','new','new'])"
   ]
  },
  {
   "cell_type": "code",
   "execution_count": 6,
   "id": "7c883d9e",
   "metadata": {},
   "outputs": [],
   "source": [
    "f.close()"
   ]
  },
  {
   "cell_type": "code",
   "execution_count": 7,
   "id": "bf95126b",
   "metadata": {},
   "outputs": [],
   "source": [
    "            \n",
    "   # while date_check == False: \n",
    "    #\n",
    "     #   date_input = input('Enter date as DD/MM/YYYY ')\n",
    "      #  \n",
    "      #  if date.replace(\".\",\"\").isnumeric() == False:\n",
    "       #     print (\"Please enter a number of litres\")\n",
    "       # else:\n",
    "        #    date = float(litres)\n",
    "       #     date_check = True\n",
    "       #     "
   ]
  },
  {
   "cell_type": "code",
   "execution_count": 8,
   "id": "3959aedd",
   "metadata": {},
   "outputs": [],
   "source": [
    "from datetime import date"
   ]
  },
  {
   "cell_type": "code",
   "execution_count": null,
   "id": "00ddb3ce",
   "metadata": {},
   "outputs": [],
   "source": []
  }
 ],
 "metadata": {
  "kernelspec": {
   "display_name": "Python 3 (ipykernel)",
   "language": "python",
   "name": "python3"
  },
  "language_info": {
   "codemirror_mode": {
    "name": "ipython",
    "version": 3
   },
   "file_extension": ".py",
   "mimetype": "text/x-python",
   "name": "python",
   "nbconvert_exporter": "python",
   "pygments_lexer": "ipython3",
   "version": "3.9.13"
  }
 },
 "nbformat": 4,
 "nbformat_minor": 5
}
